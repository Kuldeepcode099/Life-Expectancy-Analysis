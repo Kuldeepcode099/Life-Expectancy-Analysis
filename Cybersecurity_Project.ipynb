{
 "cells": [
  {
   "cell_type": "code",
   "execution_count": null,
   "id": "33807795",
   "metadata": {},
   "outputs": [],
   "source": [
    "# Cybersecurity Project notebook code here (generated earlier)"
   ]
  }
 ],
 "metadata": {},
 "nbformat": 4,
 "nbformat_minor": 5
}
