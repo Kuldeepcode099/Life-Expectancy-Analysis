{
 "cells": [
  {
   "cell_type": "code",
   "execution_count": null,
   "id": "46694b50",
   "metadata": {},
   "outputs": [],
   "source": [
    "# 1) Data Import\n",
    "from google.colab import files\n",
    "import io, pandas as pd, numpy as np\n",
    "uploaded = files.upload()\n",
    "fname = list(uploaded.keys())[0]\n",
    "df = pd.read_csv(io.BytesIO(uploaded[fname]))\n",
    "print(df.shape)\n",
    "df.head()"
   ]
  },
  {
   "cell_type": "code",
   "execution_count": null,
   "id": "ff44c5ec",
   "metadata": {},
   "outputs": [],
   "source": [
    "# 2) Data Cleaning\n",
    "df.drop_duplicates(inplace=True)\n",
    "for col in df.select_dtypes(include=[np.number]).columns:\n",
    "    df[col].fillna(df[col].mean(), inplace=True)\n",
    "for col in df.select_dtypes(include=[np.number]).columns:\n",
    "    Q1,Q3 = df[col].quantile(0.25), df[col].quantile(0.75)\n",
    "    IQR = Q3-Q1\n",
    "    lower, upper = Q1-1.5*IQR, Q3+1.5*IQR\n",
    "    mask = (df[col]<lower)|(df[col]>upper)\n",
    "    df.loc[mask,col] = df[col].mean()\n",
    "df.info()"
   ]
  },
  {
   "cell_type": "code",
   "execution_count": null,
   "id": "d30da323",
   "metadata": {},
   "outputs": [],
   "source": [
    "# 3) EDA - distributions & correlation\n",
    "import matplotlib.pyplot as plt, seaborn as sns\n",
    "plt.hist(df['Life expectancy '].dropna(), bins=30); plt.title('Life Expectancy'); plt.show()\n",
    "sns.heatmap(df.corr(), cmap='coolwarm'); plt.show()"
   ]
  },
  {
   "cell_type": "code",
   "execution_count": null,
   "id": "7e4b4eac",
   "metadata": {},
   "outputs": [],
   "source": [
    "# 4) Preprocessing - encode & scale\n",
    "from sklearn.preprocessing import LabelEncoder, StandardScaler\n",
    "cat_cols = df.select_dtypes(include=['object']).columns\n",
    "le = LabelEncoder()\n",
    "for col in cat_cols:\n",
    "    df[col] = le.fit_transform(df[col].astype(str))\n",
    "scaler = StandardScaler()\n",
    "num_cols = df.select_dtypes(include=[np.number]).columns\n",
    "df[num_cols] = scaler.fit_transform(df[num_cols])\n",
    "print(df.head())"
   ]
  },
  {
   "cell_type": "code",
   "execution_count": null,
   "id": "ca3e2971",
   "metadata": {},
   "outputs": [],
   "source": [
    "# 5) Model Training - Regression models\n",
    "from sklearn.model_selection import train_test_split\n",
    "from sklearn.ensemble import RandomForestRegressor, ExtraTreesRegressor, GradientBoostingRegressor\n",
    "from xgboost import XGBRegressor\n",
    "from sklearn.metrics import mean_squared_error, r2_score\n",
    "X = df.drop(columns=['Life expectancy '])\n",
    "y = df['Life expectancy ']\n",
    "X_train,X_test,y_train,y_test = train_test_split(X,y,test_size=0.2,random_state=42)\n",
    "models={'RF':RandomForestRegressor(n_estimators=200,random_state=42),\n",
    "        'ET':ExtraTreesRegressor(n_estimators=200,random_state=42),\n",
    "        'GB':GradientBoostingRegressor(random_state=42),\n",
    "        'XGB':XGBRegressor(random_state=42,objective='reg:squarederror')}\n",
    "for name,model in models.items():\n",
    "    model.fit(X_train,y_train)\n",
    "    pred=model.predict(X_test)\n",
    "    print(name,\"RMSE\",mean_squared_error(y_test,pred,squared=False),\"R2\",r2_score(y_test,pred))"
   ]
  },
  {
   "cell_type": "code",
   "execution_count": null,
   "id": "dc81a286",
   "metadata": {},
   "outputs": [],
   "source": [
    "# 6) Cross Validation on XGBoost\n",
    "from sklearn.model_selection import cross_val_score\n",
    "xgb = XGBRegressor(random_state=42,objective='reg:squarederror')\n",
    "scores = cross_val_score(xgb,X,y,cv=5,scoring='r2')\n",
    "print(\"CV R2 scores:\",scores)\n",
    "print(\"Mean R2:\",scores.mean())"
   ]
  }
 ],
 "metadata": {},
 "nbformat": 4,
 "nbformat_minor": 5
}
